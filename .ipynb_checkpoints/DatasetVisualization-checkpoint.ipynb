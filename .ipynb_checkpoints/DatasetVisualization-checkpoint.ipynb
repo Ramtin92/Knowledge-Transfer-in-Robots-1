{
 "cells": [
  {
   "cell_type": "code",
   "execution_count": 1,
   "metadata": {},
   "outputs": [],
   "source": [
    "import os, pickle\n",
    "import matplotlib.pyplot as plt\n",
    "import numpy as np"
   ]
  },
  {
   "cell_type": "code",
   "execution_count": 2,
   "metadata": {},
   "outputs": [],
   "source": [
    "def find_modality_bin_behavior(a_path, db_file_name):\n",
    "    \"\"\"\n",
    "    Finds modality, bins, behavior by using `path` and `dataset` file name\n",
    "\n",
    "    :param a_path: Dataset path\n",
    "    :param db_file_name: Dataset file name\n",
    "\n",
    "    :return: modality, bins, behavior\n",
    "    \"\"\"\n",
    "\n",
    "    modality = a_path.split(os.sep)[1].split(\"_\")[0].capitalize()\n",
    "    bins = a_path.split(os.sep)[1].split(\"_\")[1]\n",
    "\n",
    "    if modality == \"Proprioception\":\n",
    "        modality = \"Haptic\"\n",
    "\n",
    "    if (db_file_name.split(\".\")[0].split(\"_\")[0]) == 'low':\n",
    "        behavior = \"Drop\"\n",
    "    else:\n",
    "        behavior = db_file_name.split(\".\")[0].split(\"_\")[0].capitalize()\n",
    "\n",
    "    if behavior == \"Crush\":\n",
    "        behavior = 'Press'\n",
    "\n",
    "    return modality, bins, behavior\n",
    "\n",
    "def read_dataset(a_path, db_file_name):\n",
    "    \"\"\"\n",
    "    Read dataset\n",
    "\n",
    "    :param a_path: Dataset path\n",
    "    :param db_file_name: Dataset file name\n",
    "\n",
    "    :return: interaction_data, category_labels, object_labels\n",
    "    \"\"\"\n",
    "\n",
    "    bin_file = open(a_path + os.sep + db_file_name, \"rb\")\n",
    "    interaction_data = pickle.load(bin_file)\n",
    "    category_labels = pickle.load(bin_file)\n",
    "    object_labels = pickle.load(bin_file)\n",
    "    bin_file.close()\n",
    "\n",
    "    return reshape_full_data(interaction_data), reshape_full_data(category_labels), reshape_full_data(object_labels)\n",
    "\n",
    "def reshape_full_data(data):\n",
    "    \"\"\"\n",
    "    Reshape data into (Categories, Objects, Trials)\n",
    "\n",
    "    :param data: Dataset list\n",
    "\n",
    "    :return: reshaped Dataset list\n",
    "    \"\"\"\n",
    "    return data.reshape(NUM_OF_CATEGORY, OBJECTS_PER_CATEGORY, TRIALS_PER_OBJECT, -1)\n",
    "\n",
    "\n",
    "def print_discretized_data(data, x_values, y_values, modality, behavior, file_path=None):\n",
    "    \"\"\"\n",
    "    prints the data point and save it\n",
    "\n",
    "    :param data: one data point\n",
    "    :param x_values: temporal bins\n",
    "    :param y_values:\n",
    "    :param modality:\n",
    "    :param behavior:\n",
    "    :param file_path:\n",
    "\n",
    "    :return:\n",
    "    \"\"\"\n",
    "    \n",
    "    data = data.reshape(x_values, y_values)\n",
    "\n",
    "    #plt.imshow(np.flipud(data.T))\n",
    "\n",
    "    title_name = \" \".join([behavior, modality, \"Features\"])\n",
    "    plt.title(title_name, fontsize=16)\n",
    "    plt.xlabel(\"Temporal Bins\", fontsize=16)\n",
    "\n",
    "    if modality == 'Haptic':\n",
    "        plt.imshow(data.T, cmap=plt.cm.gray)\n",
    "        y_label = \"Joints\"\n",
    "    elif modality == 'Audio':\n",
    "        plt.imshow(np.flipud(data.T), cmap=plt.cm.gray)\n",
    "        y_label = \"Frequency Bins\"\n",
    "    else:\n",
    "        y_label = \"\"\n",
    "    plt.ylabel(y_label, fontsize=16)\n",
    "\n",
    "    ax = plt.gca()\n",
    "    ax.set_xticks(np.arange(0, x_values, 1))\n",
    "    ax.set_yticks(np.arange(0, y_values, 1))\n",
    "    ax.set_xticklabels(np.arange(1, x_values + 1, 1))\n",
    "    ax.set_yticklabels(np.arange(1, y_values + 1, 1))\n",
    "\n",
    "    plt.colorbar()\n",
    "\n",
    "    plt.show()\n",
    "    plt.close()"
   ]
  },
  {
   "cell_type": "code",
   "execution_count": 3,
   "metadata": {},
   "outputs": [],
   "source": [
    "# Source Robot data\n",
    "a_path1 = \"Datasets\"+os.sep+\"audio_10x10_datasets\"\n",
    "db_file_name1 = \"shake_audio.bin\"\n",
    "\n",
    "# Target Robot data\n",
    "a_path2 = \"Datasets\"+os.sep+\"proprioception_10x10_datasets\"\n",
    "db_file_name2 = \"hold_proprioception_10bin_features.bin\"\n",
    "\n",
    "CATEGORY_LABELS = {'cup': 8, 'timber': 17, 'bottle': 4, 'tin': 18, 'ball': 1, 'weight': 20, 'eggcoloringcup': 9, 'basket': 2, 'cone': 7, 'cannedfood': 6, 'noodle': 13, 'egg': 10, 'medicine': 11, 'pvc': 15, 'can': 5, 'pasta': 14, 'tupperware': 19, 'bigstuffedanimal': 3, 'smallstuffedanimal': 16, 'metal': 12}\n",
    "OBJECT_LABELS = {'cup_yellow': 40, 'basket_handle': 9, 'pvc_1': 71, 'smallstuffedanimal_moose': 79, 'smallstuffedanimal_headband_bear': 78, 'noodle_2': 62, 'timber_square': 84, 'tupperware_ground_coffee': 92, 'medicine_calcium': 54, 'basket_cylinder': 6, 'egg_cardboard': 46, 'cannedfood_tomato_paste': 30, 'egg_smooth_styrofoam': 49, 'noodle_1': 61, 'basket_funnel': 7, 'can_starbucks': 25, 'weight_3': 98, 'cone_2': 32, 'weight_2': 97, 'bottle_red': 19, 'medicine_aspirin': 52, 'eggcoloringcup_orange': 43, 'bottle_green': 18, 'egg_wood': 50, 'egg_plastic_wrap': 47, 'noodle_3': 63, 'timber_squiggle': 85, 'pasta_pipette': 69, 'noodle_5': 65, 'cannedfood_tomatoes': 29, 'pasta_cremette': 66, 'ball_transparent': 4, 'ball_basket': 2, 'tupperware_coffee_beans': 91, 'metal_thermos': 60, 'bottle_google': 17, 'smallstuffedanimal_otter': 80, 'tin_tea': 90, 'eggcoloringcup_blue': 41, 'tupperware_pasta': 94, 'cup_blue': 36, 'egg_rough_styrofoam': 48, 'bigstuffedanimal_tan_dog': 15, 'timber_semicircle': 83, 'eggcoloringcup_pink': 44, 'cone_5': 35, 'timber_rectangle': 82, 'cannedfood_cowboy_cookout': 27, 'noodle_4': 64, 'tupperware_marbles': 93, 'cone_3': 33, 'pasta_penne': 68, 'pasta_rotini': 70, 'bigstuffedanimal_pink_dog': 14, 'cannedfood_soup': 28, 'tin_snowman': 89, 'metal_flower_cylinder': 56, 'eggcoloringcup_yellow': 45, 'weight_4': 99, 'cup_metal': 38, 'weight_5': 100, 'bigstuffedanimal_frog': 13, 'medicine_ampicillin': 51, 'smallstuffedanimal_bunny': 76, 'cone_4': 34, 'tin_poker': 87, 'can_red_bull_small': 24, 'cannedfood_chili': 26, 'ball_blue': 3, 'smallstuffedanimal_chick': 77, 'ball_base': 1, 'pvc_4': 74, 'medicine_bilberry_extract': 53, 'pvc_2': 72, 'timber_pentagon': 81, 'medicine_flaxseed_oil': 55, 'cup_isu': 37, 'metal_tea_jar': 59, 'ball_yellow_purple': 5, 'cone_1': 31, 'metal_food_can': 57, 'metal_mix_covered_cup': 58, 'tin_pokemon': 86, 'can_arizona': 21, 'bigstuffedanimal_bear': 11, 'can_red_bull_large': 23, 'tupperware_rice': 95, 'bigstuffedanimal_bunny': 12, 'can_coke': 22, 'eggcoloringcup_green': 42, 'pasta_macaroni': 67, 'basket_green': 8, 'pvc_5': 75, 'basket_semicircle': 10, 'tin_snack_depot': 88, 'bottle_sobe': 20, 'weight_1': 96, 'pvc_3': 73, 'cup_paper_green': 39, 'bottle_fuse': 16}\n",
    "\n",
    "NUM_OF_CATEGORY = len(CATEGORY_LABELS)\n",
    "OBJECTS_PER_CATEGORY = 5\n",
    "TRIALS_PER_OBJECT = 5"
   ]
  },
  {
   "cell_type": "code",
   "execution_count": 4,
   "metadata": {},
   "outputs": [
    {
     "name": "stdout",
     "output_type": "stream",
     "text": [
      "Source Robot data:  Shake Audio\n",
      "categories, objects, trials, features: (20, 5, 5, 100)\n",
      "\n",
      "Target Robot data:  Hold Haptic\n",
      "categories, objects, trials, features: (20, 5, 5, 70)\n"
     ]
    }
   ],
   "source": [
    "modality1, bins1, behavior1 = find_modality_bin_behavior(a_path1, db_file_name1)\n",
    "print(\"Source Robot data: \", behavior1, modality1)\n",
    "interaction_data_1, category_labels_1, object_labels_1 = read_dataset(a_path1, db_file_name1)\n",
    "num_of_features_1 = interaction_data_1.shape[-1]\n",
    "print(\"categories, objects, trials, features:\", interaction_data_1.shape)\n",
    "\n",
    "print(\"\")\n",
    "\n",
    "modality2, bins2, behavior2 = find_modality_bin_behavior(a_path2, db_file_name2)\n",
    "print(\"Target Robot data: \", behavior2, modality2)\n",
    "interaction_data_2, category_labels_2, object_labels_2 = read_dataset(a_path2, db_file_name2)\n",
    "num_of_features_2 = interaction_data_2.shape[-1]\n",
    "print(\"categories, objects, trials, features:\", interaction_data_2.shape)"
   ]
  },
  {
   "cell_type": "code",
   "execution_count": 5,
   "metadata": {},
   "outputs": [
    {
     "data": {
      "image/png": "[encoded data removed]",
      "text/plain": [
       "<Figure size 432x288 with 2 Axes>"
      ]
     },
     "metadata": {
      "needs_background": "light"
     },
     "output_type": "display_data"
    },
    {
     "name": "stdout",
     "output_type": "stream",
     "text": [
      "Category label:  weight\n"
     ]
    },
    {
     "data": {
      "image/png": "[encoded data removed]",
      "text/plain": [
       "<Figure size 432x288 with 2 Axes>"
      ]
     },
     "metadata": {
      "needs_background": "light"
     },
     "output_type": "display_data"
    },
    {
     "name": "stdout",
     "output_type": "stream",
     "text": [
      "Category label:  basket\n"
     ]
    }
   ],
   "source": [
    "cat, obj, tri = 19, 1, 1\n",
    "x_values = 10 # temporal bins\n",
    "y_values = num_of_features_1//x_values\n",
    "modality, behavior = modality1, behavior1\n",
    "print_discretized_data(interaction_data_1[cat][obj][tri], x_values, y_values, modality, behavior, file_path=None)\n",
    "cat_lab = category_labels_1[cat][obj][tri]\n",
    "print(\"Category label: \", list(CATEGORY_LABELS.keys())[list(CATEGORY_LABELS.values()).index(cat_lab)])\n",
    "\n",
    "cat, obj, tri = 1, 1, 1\n",
    "x_values = 10 # temporal bins\n",
    "y_values = num_of_features_2//x_values\n",
    "modality, behavior = modality2, behavior2\n",
    "print_discretized_data(interaction_data_2[cat][obj][tri], x_values, y_values, modality, behavior, file_path=None)\n",
    "cat_lab = category_labels_2[cat][obj][tri]\n",
    "print(\"Category label: \", list(CATEGORY_LABELS.keys())[list(CATEGORY_LABELS.values()).index(cat_lab)])"
   ]
  },
  {
   "cell_type": "code",
   "execution_count": null,
   "metadata": {},
   "outputs": [],
   "source": []
  },
  {
   "cell_type": "code",
   "execution_count": null,
   "metadata": {},
   "outputs": [],
   "source": []
  }
 ],
 "metadata": {
  "kernelspec": {
   "display_name": "Python 3",
   "language": "python",
   "name": "python3"
  },
  "language_info": {
   "codemirror_mode": {
    "name": "ipython",
    "version": 3
   },
   "file_extension": ".py",
   "mimetype": "text/x-python",
   "name": "python",
   "nbconvert_exporter": "python",
   "pygments_lexer": "ipython3",
   "version": "3.5.6"
  }
 },
 "nbformat": 4,
 "nbformat_minor": 2
}
